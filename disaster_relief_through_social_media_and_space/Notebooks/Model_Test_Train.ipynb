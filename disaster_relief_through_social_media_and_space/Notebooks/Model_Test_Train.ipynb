{
 "cells": [
  {
   "cell_type": "markdown",
   "metadata": {},
   "source": [
    "Importing:\n",
    "Importing all the necessary libraries "
   ]
  },
  {
   "cell_type": "code",
   "execution_count": 2,
   "metadata": {
    "collapsed": false
   },
   "outputs": [],
   "source": [
    "import rasterio\n",
    "import matplotlib.pyplot as plt\n",
    "import numpy as np\n",
    "import shapely\n",
    "from shapely import geometry\n",
    "from collections import Counter\n",
    "import os\n",
    "import json\n",
    "import pandas as pd\n",
    "import shapely.geometry\n",
    "import geopandas as gpd\n",
    "import geopandas_osm.osm\n",
    "import cv2\n",
    "import pickle\n",
    "from rasterio.tools.mask import mask\n",
    "import seaborn as sns\n",
    "import random\n",
    "from rasterio.merge import merge\n",
    "from sklearn.model_selection import train_test_split\n",
    "from sklearn.ensemble import RandomForestClassifier\n",
    "from sklearn.metrics import classification_report\n",
    "from sklearn.metrics import roc_curve\n",
    "from sklearn.metrics import auc\n",
    "import math\n",
    "from sklearn.externals import joblib\n",
    "from sklearn.metrics import mutual_info_score\n",
    "from sklearn.metrics import adjusted_mutual_info_score\n",
    "\n",
    "%matplotlib inline"
   ]
  },
  {
   "cell_type": "markdown",
   "metadata": {},
   "source": [
    "## load npy files into dataframes"
   ]
  },
  {
   "cell_type": "markdown",
   "metadata": {},
   "source": [
    "Each stacked image contains complete band information from the satellite imagery, including both pan-sharpened and non-pan-sharpened versions. The accompanying masks consist of binary values (0s and 1s) that delineate areas with damaged buildings. The set of four images/masks corresponds to distinct regions within the Philippines for which we possess satellite imagery data."
   ]
  },
  {
   "cell_type": "code",
   "execution_count": 3,
   "metadata": {
    "collapsed": false
   },
   "outputs": [],
   "source": [
    "stacked_image1 = np.load('stacked_imgs_masks/stacked_image1.npy')\n",
    "stacked_image2 = np.load('stacked_imgs_masks/stacked_image2.npy')\n",
    "stacked_image3 = np.load('stacked_imgs_masks/stacked_image3.npy')\n",
    "stacked_image4 = np.load('stacked_imgs_masks/stacked_image4.npy')\n",
    "stacked_image5 = np.load('stacked_imgs_masks/stacked_image5.npy')\n",
    "\n",
    "mask1 = np.load('stacked_imgs_masks/mask1.npy')\n",
    "mask2 = np.load('stacked_imgs_masks/mask2.npy')\n",
    "mask3 = np.load('stacked_imgs_masks/mask3.npy')\n",
    "mask4 = np.load('stacked_imgs_masks/mask4.npy')\n",
    "mask5 = np.load('stacked_imgs_masks/mask5.npy')"
   ]
  },
  {
   "cell_type": "markdown",
   "metadata": {},
   "source": [
    "The function `to_df` takes two inputs: `stacked_image`, a 3D array where images are stacked layer-wise, and `mask`, which is an array representing some form of classification or result for each pixel in `stacked_image`. The function first creates a DataFrame from the flattened values of the second layer of `stacked_image`. Then, it iterates over the remaining layers (starting from the second), flattening each one and appending these as new columns to the DataFrame. After looping through all the layers, it adds a new column `ground_truth` containing the flattened `mask` data. The DataFrame columns are named systematically based on their band and image type, such as `b1_pre`, `b1_post`, and so forth, ending with `ground_truth` which holds the mask information. The function finally returns this DataFrame, which now organizes all the pixel values from the input data in a tabular format, with each row representing a pixel and each column representing different image attributes and the mask classification."
   ]
  },
  {
   "cell_type": "code",
   "execution_count": 4,
   "metadata": {
    "collapsed": true
   },
   "outputs": [],
   "source": [
    "def to_df(stacked_image, mask):\n",
    "    \n",
    "    df = pd.DataFrame(stacked_image[:, :, 1].flatten())\n",
    "\n",
    "    for i in range(1, stacked_image.shape[2]):\n",
    "        df1 = pd.DataFrame(stacked_image[:, :, i].flatten())\n",
    "        df = pd.concat([df, df1], axis = 1)\n",
    "    \n",
    "    df['ground_truth'] = mask.flatten()\n",
    "    \n",
    "    df.columns = ['b1_pre', 'b2_pre', 'b3_pre', 'b4_pre', 'b5_pre', 'b6_pre', 'b7_pre',\n",
    "       'b8_pre', 'b9_pre', 'b10_pre', 'b11_pre', 'r_pre', 'g_pre', 'b_pre', 'b1_post', \n",
    "        'b2_post', 'b3_post', 'b4_post', 'b5_post', 'b6_post', 'b7_post', 'b8_post',\n",
    "       'b9_post', 'b10_post', 'b11_post', 'r_post', 'g_post', 'b_post',\n",
    "        'b1_sub', 'b2_sub', 'b3_sub', 'b4_sub', 'b5_sub', 'b6_sub', 'b7_sub', 'b8_sub', \n",
    "        'b9_sub', 'b10_sub', 'b11_sub', 'r_sub', 'g_sub', 'b_sub', 'ground_truth']\n",
    "    \n",
    "    return df\n",
    "    "
   ]
  },
  {
   "cell_type": "code",
   "execution_count": 5,
   "metadata": {
    "collapsed": false
   },
   "outputs": [],
   "source": [
    "df1 = to_df(stacked_image1, mask1)\n",
    "df2 = to_df(stacked_image2, mask2)\n",
    "df3 = to_df(stacked_image3, mask3)\n",
    "df4 = to_df(stacked_image4, mask4)"
   ]
  },
  {
   "cell_type": "code",
   "execution_count": null,
   "metadata": {
    "collapsed": true
   },
   "outputs": [],
   "source": []
  },
  {
   "cell_type": "markdown",
   "metadata": {
    "collapsed": true
   },
   "source": [
    "## random forest (balanced samples)"
   ]
  },
  {
   "cell_type": "markdown",
   "metadata": {},
   "source": [
    "**Train on top half, predict on bottom**"
   ]
  },
  {
   "cell_type": "markdown",
   "metadata": {},
   "source": [
    "Take bottom 50% of three images (1, 2, 4) as test set. Train on balanced sample from the top half of the same three images."
   ]
  },
  {
   "cell_type": "markdown",
   "metadata": {},
   "source": [
    "creating df from three images"
   ]
  },
  {
   "cell_type": "code",
   "execution_count": 6,
   "metadata": {
    "collapsed": false
   },
   "outputs": [],
   "source": [
    "full_df = pd.concat([df1, df2, df4]).reset_index().drop('index', axis = 1)"
   ]
  },
  {
   "cell_type": "code",
   "execution_count": 7,
   "metadata": {
    "collapsed": false
   },
   "outputs": [
    {
     "data": {
      "text/plain": [
       "(153600, 43)"
      ]
     },
     "execution_count": 7,
     "metadata": {},
     "output_type": "execute_result"
    }
   ],
   "source": [
    "df1.shape"
   ]
  },
  {
   "cell_type": "code",
   "execution_count": 8,
   "metadata": {
    "collapsed": false
   },
   "outputs": [
    {
     "data": {
      "text/plain": [
       "(491520, 43)"
      ]
     },
     "execution_count": 8,
     "metadata": {},
     "output_type": "execute_result"
    }
   ],
   "source": [
    "df2.shape"
   ]
  },
  {
   "cell_type": "code",
   "execution_count": 9,
   "metadata": {
    "collapsed": false
   },
   "outputs": [
    {
     "data": {
      "text/plain": [
       "(135168, 43)"
      ]
     },
     "execution_count": 9,
     "metadata": {},
     "output_type": "execute_result"
    }
   ],
   "source": [
    "df3.shape"
   ]
  },
  {
   "cell_type": "markdown",
   "metadata": {},
   "source": [
    "take bottom 50 percent of each image for test set"
   ]
  },
  {
   "cell_type": "code",
   "execution_count": 11,
   "metadata": {
    "collapsed": true
   },
   "outputs": [],
   "source": [
    "a = round(df1.shape[0]*.5)\n",
    "b = df1.shape[0]\n",
    "c = df1.shape[0] + round(df2.shape[0]*.5)\n",
    "d = df1.shape[0] + df2.shape[0]\n",
    "e = df1.shape[0] + df2.shape[0] + round(df3.shape[0]*.5)\n",
    "f = df1.shape[0] + df2.shape[0] + df3.shape[0]"
   ]
  },
  {
   "cell_type": "code",
   "execution_count": 12,
   "metadata": {
    "collapsed": false
   },
   "outputs": [
    {
     "name": "stdout",
     "output_type": "stream",
     "text": [
      "76800 153600 399360 645120 712704 780288\n"
     ]
    }
   ],
   "source": [
    "print(a, b, c, d, e, f)"
   ]
  },
  {
   "cell_type": "code",
   "execution_count": 13,
   "metadata": {
    "collapsed": false
   },
   "outputs": [],
   "source": [
    "test_df = pd.concat([full_df.iloc[a:b, :], full_df.iloc[c:d, :], full_df.iloc[e:f, :]])"
   ]
  },
  {
   "cell_type": "markdown",
   "metadata": {},
   "source": [
    "remainder is top half of three images"
   ]
  },
  {
   "cell_type": "code",
   "execution_count": 14,
   "metadata": {
    "collapsed": false
   },
   "outputs": [],
   "source": [
    "remainder = pd.concat([full_df.iloc[:a, :], full_df.iloc[b:c, :], full_df.iloc[d:e, :]])"
   ]
  },
  {
   "cell_type": "code",
   "execution_count": 15,
   "metadata": {
    "collapsed": false
   },
   "outputs": [
    {
     "data": {
      "text/plain": [
       "0    317204\n",
       "1     23788\n",
       "Name: ground_truth, dtype: int64"
      ]
     },
     "execution_count": 15,
     "metadata": {},
     "output_type": "execute_result"
    }
   ],
   "source": [
    "test_df.ground_truth.value_counts()"
   ]
  },
  {
   "cell_type": "code",
   "execution_count": 22,
   "metadata": {
    "collapsed": false
   },
   "outputs": [
    {
     "data": {
      "text/plain": [
       "0    369631\n",
       "1     20513\n",
       "Name: ground_truth, dtype: int64"
      ]
     },
     "execution_count": 22,
     "metadata": {},
     "output_type": "execute_result"
    }
   ],
   "source": [
    "remainder.ground_truth.value_counts()"
   ]
  },
  {
   "cell_type": "markdown",
   "metadata": {},
   "source": [
    " create balanced sample from top halves (remainder)\n",
    " zero_indices are rows where ground truth is 0 (no damage)"
   ]
  },
  {
   "cell_type": "code",
   "execution_count": 23,
   "metadata": {
    "collapsed": true
   },
   "outputs": [],
   "source": [
    "zero_indices = remainder[remainder.ground_truth == 0].index\n",
    "# select equal number of rows where ground truth == 1 and ground truth == 0\n",
    "random_indices = np.random.choice(zero_indices, remainder.ground_truth.value_counts()[1], replace=False)\n",
    "\n",
    "zero_sample = remainder.loc[random_indices]\n",
    "nonzero_sample = remainder[remainder.ground_truth == 1]"
   ]
  },
  {
   "cell_type": "code",
   "execution_count": 25,
   "metadata": {
    "collapsed": false
   },
   "outputs": [],
   "source": [
    "balanced_df = pd.concat([zero_sample, nonzero_sample], axis = 0)"
   ]
  },
  {
   "cell_type": "code",
   "execution_count": 26,
   "metadata": {
    "collapsed": false
   },
   "outputs": [
    {
     "data": {
      "text/html": [
       "<div>\n",
       "<table border=\"1\" class=\"dataframe\">\n",
       "  <thead>\n",
       "    <tr style=\"text-align: right;\">\n",
       "      <th></th>\n",
       "      <th>b1_pre</th>\n",
       "      <th>b2_pre</th>\n",
       "      <th>b3_pre</th>\n",
       "      <th>b4_pre</th>\n",
       "      <th>b5_pre</th>\n",
       "      <th>b6_pre</th>\n",
       "      <th>b7_pre</th>\n",
       "      <th>b8_pre</th>\n",
       "      <th>b9_pre</th>\n",
       "      <th>b10_pre</th>\n",
       "      <th>...</th>\n",
       "      <th>b6_sub</th>\n",
       "      <th>b7_sub</th>\n",
       "      <th>b8_sub</th>\n",
       "      <th>b9_sub</th>\n",
       "      <th>b10_sub</th>\n",
       "      <th>b11_sub</th>\n",
       "      <th>r_sub</th>\n",
       "      <th>g_sub</th>\n",
       "      <th>b_sub</th>\n",
       "      <th>ground_truth</th>\n",
       "    </tr>\n",
       "  </thead>\n",
       "  <tbody>\n",
       "    <tr>\n",
       "      <th>17799</th>\n",
       "      <td>0.092719</td>\n",
       "      <td>0.092719</td>\n",
       "      <td>0.125805</td>\n",
       "      <td>0.269536</td>\n",
       "      <td>0.220621</td>\n",
       "      <td>0.145741</td>\n",
       "      <td>0.081321</td>\n",
       "      <td>0.073816</td>\n",
       "      <td>0.042037</td>\n",
       "      <td>0.022545</td>\n",
       "      <td>...</td>\n",
       "      <td>0.449299</td>\n",
       "      <td>0.456859</td>\n",
       "      <td>0.480292</td>\n",
       "      <td>0.571733</td>\n",
       "      <td>0.663749</td>\n",
       "      <td>0.501404</td>\n",
       "      <td>0.207566</td>\n",
       "      <td>0.768457</td>\n",
       "      <td>0.749378</td>\n",
       "      <td>0</td>\n",
       "    </tr>\n",
       "    <tr>\n",
       "      <th>240287</th>\n",
       "      <td>0.374854</td>\n",
       "      <td>0.374854</td>\n",
       "      <td>0.420147</td>\n",
       "      <td>0.576169</td>\n",
       "      <td>0.569915</td>\n",
       "      <td>0.538371</td>\n",
       "      <td>0.360474</td>\n",
       "      <td>0.109501</td>\n",
       "      <td>0.091218</td>\n",
       "      <td>0.107413</td>\n",
       "      <td>...</td>\n",
       "      <td>0.291789</td>\n",
       "      <td>0.390699</td>\n",
       "      <td>0.599886</td>\n",
       "      <td>0.482930</td>\n",
       "      <td>0.450465</td>\n",
       "      <td>0.333402</td>\n",
       "      <td>0.247002</td>\n",
       "      <td>0.519198</td>\n",
       "      <td>0.593609</td>\n",
       "      <td>0</td>\n",
       "    </tr>\n",
       "    <tr>\n",
       "      <th>221864</th>\n",
       "      <td>0.169249</td>\n",
       "      <td>0.169249</td>\n",
       "      <td>0.282888</td>\n",
       "      <td>0.580683</td>\n",
       "      <td>0.541624</td>\n",
       "      <td>0.343099</td>\n",
       "      <td>0.228587</td>\n",
       "      <td>0.084019</td>\n",
       "      <td>0.096479</td>\n",
       "      <td>0.130021</td>\n",
       "      <td>...</td>\n",
       "      <td>0.309954</td>\n",
       "      <td>0.393645</td>\n",
       "      <td>0.592509</td>\n",
       "      <td>0.488948</td>\n",
       "      <td>0.473180</td>\n",
       "      <td>0.333123</td>\n",
       "      <td>0.250540</td>\n",
       "      <td>0.525543</td>\n",
       "      <td>0.616247</td>\n",
       "      <td>0</td>\n",
       "    </tr>\n",
       "    <tr>\n",
       "      <th>230567</th>\n",
       "      <td>0.251853</td>\n",
       "      <td>0.251853</td>\n",
       "      <td>0.292980</td>\n",
       "      <td>0.477061</td>\n",
       "      <td>0.432320</td>\n",
       "      <td>0.393482</td>\n",
       "      <td>0.218688</td>\n",
       "      <td>0.676682</td>\n",
       "      <td>0.380413</td>\n",
       "      <td>0.248617</td>\n",
       "      <td>...</td>\n",
       "      <td>0.297842</td>\n",
       "      <td>0.372623</td>\n",
       "      <td>0.608358</td>\n",
       "      <td>0.508906</td>\n",
       "      <td>0.479622</td>\n",
       "      <td>0.326033</td>\n",
       "      <td>0.308186</td>\n",
       "      <td>0.468965</td>\n",
       "      <td>0.549818</td>\n",
       "      <td>0</td>\n",
       "    </tr>\n",
       "    <tr>\n",
       "      <th>311645</th>\n",
       "      <td>0.136540</td>\n",
       "      <td>0.136540</td>\n",
       "      <td>0.233701</td>\n",
       "      <td>0.530442</td>\n",
       "      <td>0.477484</td>\n",
       "      <td>0.295372</td>\n",
       "      <td>0.195344</td>\n",
       "      <td>0.067734</td>\n",
       "      <td>0.061146</td>\n",
       "      <td>0.083602</td>\n",
       "      <td>...</td>\n",
       "      <td>0.299813</td>\n",
       "      <td>0.368815</td>\n",
       "      <td>0.577420</td>\n",
       "      <td>0.478306</td>\n",
       "      <td>0.458603</td>\n",
       "      <td>0.325999</td>\n",
       "      <td>0.256245</td>\n",
       "      <td>0.551006</td>\n",
       "      <td>0.633538</td>\n",
       "      <td>0</td>\n",
       "    </tr>\n",
       "  </tbody>\n",
       "</table>\n",
       "<p>5 rows × 43 columns</p>\n",
       "</div>"
      ],
      "text/plain": [
       "          b1_pre    b2_pre    b3_pre    b4_pre    b5_pre    b6_pre    b7_pre  \\\n",
       "17799   0.092719  0.092719  0.125805  0.269536  0.220621  0.145741  0.081321   \n",
       "240287  0.374854  0.374854  0.420147  0.576169  0.569915  0.538371  0.360474   \n",
       "221864  0.169249  0.169249  0.282888  0.580683  0.541624  0.343099  0.228587   \n",
       "230567  0.251853  0.251853  0.292980  0.477061  0.432320  0.393482  0.218688   \n",
       "311645  0.136540  0.136540  0.233701  0.530442  0.477484  0.295372  0.195344   \n",
       "\n",
       "          b8_pre    b9_pre   b10_pre      ...         b6_sub    b7_sub  \\\n",
       "17799   0.073816  0.042037  0.022545      ...       0.449299  0.456859   \n",
       "240287  0.109501  0.091218  0.107413      ...       0.291789  0.390699   \n",
       "221864  0.084019  0.096479  0.130021      ...       0.309954  0.393645   \n",
       "230567  0.676682  0.380413  0.248617      ...       0.297842  0.372623   \n",
       "311645  0.067734  0.061146  0.083602      ...       0.299813  0.368815   \n",
       "\n",
       "          b8_sub    b9_sub   b10_sub   b11_sub     r_sub     g_sub     b_sub  \\\n",
       "17799   0.480292  0.571733  0.663749  0.501404  0.207566  0.768457  0.749378   \n",
       "240287  0.599886  0.482930  0.450465  0.333402  0.247002  0.519198  0.593609   \n",
       "221864  0.592509  0.488948  0.473180  0.333123  0.250540  0.525543  0.616247   \n",
       "230567  0.608358  0.508906  0.479622  0.326033  0.308186  0.468965  0.549818   \n",
       "311645  0.577420  0.478306  0.458603  0.325999  0.256245  0.551006  0.633538   \n",
       "\n",
       "        ground_truth  \n",
       "17799              0  \n",
       "240287             0  \n",
       "221864             0  \n",
       "230567             0  \n",
       "311645             0  \n",
       "\n",
       "[5 rows x 43 columns]"
      ]
     },
     "execution_count": 26,
     "metadata": {},
     "output_type": "execute_result"
    }
   ],
   "source": [
    "balanced_df.head()"
   ]
  },
  {
   "cell_type": "code",
   "execution_count": 27,
   "metadata": {
    "collapsed": false
   },
   "outputs": [
    {
     "data": {
      "text/plain": [
       "(41026, 43)"
      ]
     },
     "execution_count": 27,
     "metadata": {},
     "output_type": "execute_result"
    }
   ],
   "source": [
    "balanced_df.shape"
   ]
  },
  {
   "cell_type": "code",
   "execution_count": 28,
   "metadata": {
    "collapsed": false
   },
   "outputs": [
    {
     "data": {
      "text/plain": [
       "(340992, 43)"
      ]
     },
     "execution_count": 28,
     "metadata": {},
     "output_type": "execute_result"
    }
   ],
   "source": [
    "test_df.shape"
   ]
  },
  {
   "cell_type": "code",
   "execution_count": 29,
   "metadata": {
    "collapsed": true
   },
   "outputs": [],
   "source": [
    "X_train = balanced_df.iloc[:, :-1]\n",
    "y_train = balanced_df.iloc[:, -1]\n",
    "X_test = test_df.iloc[:, :-1]\n",
    "y_test = test_df.iloc[:, -1]"
   ]
  },
  {
   "cell_type": "code",
   "execution_count": 31,
   "metadata": {
    "collapsed": true
   },
   "outputs": [],
   "source": [
    "sns.set_style(\"whitegrid\", {'axes.grid' : False})"
   ]
  },
  {
   "cell_type": "code",
   "execution_count": 33,
   "metadata": {
    "collapsed": false
   },
   "outputs": [
    {
     "name": "stdout",
     "output_type": "stream",
     "text": [
      "             precision    recall  f1-score   support\n",
      "\n",
      "          0       0.97      0.92      0.95    317204\n",
      "          1       0.37      0.62      0.47     23788\n",
      "\n",
      "avg / total       0.93      0.90      0.91    340992\n",
      "\n",
      "Model: Random Forest Classifier\n",
      "AUC: 0.91219776062\n",
      "\n"
     ]
    },
    {
     "data": {
      "image/png": "[encoded data removed]",
      "text/plain": [
       "<matplotlib.figure.Figure at 0x7f4a4e8c1c18>"
      ]
     },
     "metadata": {},
     "output_type": "display_data"
    }
   ],
   "source": [
    "rf = RandomForestClassifier()\n",
    "rf.fit(X_train, y_train)\n",
    "rf.score(X_test, y_test)\n",
    "\n",
    "y_pred = rf.predict(X_test)\n",
    "y_proba = rf.predict_proba(X_test)[:,1]\n",
    "print(classification_report(y_test, y_pred))\n",
    "\n",
    "fpr, tpr, thresholds = roc_curve(y_test, y_proba)\n",
    "roc_auc = auc(fpr, tpr)\n",
    "\n",
    "print('Model: Random Forest Classifier')\n",
    "print('AUC: ' + str(roc_auc))\n",
    "print(\"\")\n",
    "\n",
    "plt.plot(fpr, tpr, color = 'navy')\n",
    "plt.plot([0,1],[0,1], '--', color = 'grey')\n",
    "plt.xlabel('FPR')\n",
    "plt.ylabel('TPR')\n",
    "#plt.title('Random Forest ROC');\n",
    "sns.despine()"
   ]
  },
  {
   "cell_type": "code",
   "execution_count": 72,
   "metadata": {
    "collapsed": true
   },
   "outputs": [],
   "source": [
    "# create helper function that allows us to set the threshold for the classification\n",
    "def threshold_wrapper(proba_list, threshold):\n",
    "    output_list = []\n",
    "    for proba in proba_list:\n",
    "        if proba >= threshold:\n",
    "            output_list.append(1)\n",
    "        else:\n",
    "            output_list.append(0)\n",
    "    return output_list"
   ]
  },
  {
   "cell_type": "code",
   "execution_count": 73,
   "metadata": {
    "collapsed": false
   },
   "outputs": [
    {
     "name": "stdout",
     "output_type": "stream",
     "text": [
      "             precision    recall  f1-score   support\n",
      "\n",
      "          0       0.95      0.97      0.96    360687\n",
      "          1       0.46      0.32      0.38     29457\n",
      "\n",
      "avg / total       0.91      0.92      0.91    390144\n",
      "\n",
      "0.121776718873\n"
     ]
    }
   ],
   "source": [
    "y_pred = threshold_wrapper(y_proba, .9)\n",
    "print(classification_report(y_test, y_pred))\n",
    "print(adjusted_mutual_info_score(y_test, y_pred))"
   ]
  },
  {
   "cell_type": "code",
   "execution_count": 74,
   "metadata": {
    "collapsed": false
   },
   "outputs": [
    {
     "name": "stdout",
     "output_type": "stream",
     "text": [
      "             precision    recall  f1-score   support\n",
      "\n",
      "          0       0.93      0.99      0.96    360687\n",
      "          1       0.50      0.15      0.23     29457\n",
      "\n",
      "avg / total       0.90      0.92      0.90    390144\n",
      "\n",
      "0.0555810387498\n"
     ]
    }
   ],
   "source": [
    "y_pred = threshold_wrapper(y_proba, .92)\n",
    "print(classification_report(y_test, y_pred))\n",
    "print(adjusted_mutual_info_score(y_test, y_pred))"
   ]
  },
  {
   "cell_type": "code",
   "execution_count": 48,
   "metadata": {
    "collapsed": false
   },
   "outputs": [
    {
     "data": {
      "text/plain": [
       "['best_rf.pkl']"
      ]
     },
     "execution_count": 48,
     "metadata": {},
     "output_type": "execute_result"
    }
   ],
   "source": [
    "# save model\n",
    "joblib.dump(rf, 'best_rf.pkl') "
   ]
  },
  {
   "cell_type": "code",
   "execution_count": 49,
   "metadata": {
    "collapsed": false
   },
   "outputs": [
    {
     "name": "stdout",
     "output_type": "stream",
     "text": [
      "('b11_sub', 0.1122234030259186)\n",
      "('b6_sub', 0.1118456385037619)\n",
      "('b1_sub', 0.078080161549225341)\n",
      "('b3_sub', 0.057561763976787562)\n",
      "('b5_sub', 0.053343263794707121)\n",
      "('b4_pre', 0.052308733735946578)\n",
      "('b3_post', 0.046776702649337407)\n",
      "('b8_post', 0.038891855962687231)\n",
      "('b11_pre', 0.0351885904797564)\n",
      "('b1_post', 0.034137464148296451)\n",
      "('b8_pre', 0.03330059856860422)\n",
      "('g_pre', 0.025562307440889009)\n",
      "('b10_sub', 0.02276053601699642)\n",
      "('b10_post', 0.020159073099823184)\n",
      "('b10_pre', 0.019509793410883491)\n",
      "('b8_sub', 0.019198840308527882)\n",
      "('b_post', 0.014648795194358025)\n",
      "('g_post', 0.01339358779954029)\n",
      "('r_post', 0.012917566340539352)\n",
      "('b2_post', 0.012519067272294907)\n",
      "('b4_post', 0.012292007481920244)\n",
      "('b11_post', 0.011975224660306429)\n",
      "('b9_pre', 0.011971970906296731)\n",
      "('b4_sub', 0.010868247629840223)\n",
      "('b9_sub', 0.010774885329328302)\n",
      "('b5_post', 0.0106904197858814)\n",
      "('b6_pre', 0.010216479639409002)\n",
      "('b9_post', 0.0097533404483684857)\n",
      "('b_pre', 0.0087065861240561999)\n",
      "('g_sub', 0.0086511215333867006)\n",
      "('b7_pre', 0.0081238028237855722)\n",
      "('b_sub', 0.0080980235925134404)\n",
      "('b5_pre', 0.0077673433210988466)\n",
      "('r_sub', 0.0074959897077512549)\n",
      "('r_pre', 0.0074952040105592376)\n",
      "('b2_pre', 0.0073920100369135478)\n",
      "('b7_sub', 0.0065913005437201353)\n",
      "('b7_post', 0.0065253258251316958)\n",
      "('b6_post', 0.0054867253420196041)\n",
      "('b1_pre', 0.005115215715426307)\n",
      "('b2_sub', 0.0049213342944330234)\n",
      "('b3_pre', 0.0047596979689723071)\n"
     ]
    }
   ],
   "source": [
    "# explore feature importances\n",
    "sorted_features = sorted(zip(X_train.columns,rf.feature_importances_), key = lambda x: x[1], reverse = True)\n",
    "for feature in sorted_features:\n",
    "       print(feature)"
   ]
  },
  {
   "cell_type": "code",
   "execution_count": null,
   "metadata": {
    "collapsed": true
   },
   "outputs": [],
   "source": []
  },
  {
   "cell_type": "markdown",
   "metadata": {},
   "source": [
    "**Train on three images, predict on new image**"
   ]
  },
  {
   "cell_type": "markdown",
   "metadata": {},
   "source": [
    "Create balanced dataframe for training from images 1, 2, 4. Test on image 3."
   ]
  },
  {
   "cell_type": "code",
   "execution_count": 57,
   "metadata": {
    "collapsed": true
   },
   "outputs": [],
   "source": [
    "remainder = pd.concat([df1, df2, df4], axis = 0).reset_index().drop('index', axis = 1)"
   ]
  },
  {
   "cell_type": "code",
   "execution_count": 58,
   "metadata": {
    "collapsed": false
   },
   "outputs": [
    {
     "data": {
      "text/plain": [
       "0    686835\n",
       "1     44301\n",
       "Name: ground_truth, dtype: int64"
      ]
     },
     "execution_count": 58,
     "metadata": {},
     "output_type": "execute_result"
    }
   ],
   "source": [
    "remainder.ground_truth.value_counts()"
   ]
  },
  {
   "cell_type": "code",
   "execution_count": 59,
   "metadata": {
    "collapsed": false
   },
   "outputs": [],
   "source": [
    "zero_indices = remainder[remainder.ground_truth == 0].index\n",
    "random_indices = np.random.choice(zero_indices, remainder.ground_truth.value_counts()[1], replace=False)\n",
    "zero_sample = remainder.loc[random_indices]"
   ]
  },
  {
   "cell_type": "code",
   "execution_count": 60,
   "metadata": {
    "collapsed": true
   },
   "outputs": [],
   "source": [
    "nonzero_sample = remainder[remainder.ground_truth == 1]"
   ]
  },
  {
   "cell_type": "code",
   "execution_count": 61,
   "metadata": {
    "collapsed": true
   },
   "outputs": [],
   "source": [
    "balanced_df = pd.concat([zero_sample, nonzero_sample], axis = 0)"
   ]
  },
  {
   "cell_type": "code",
   "execution_count": 62,
   "metadata": {
    "collapsed": false
   },
   "outputs": [],
   "source": [
    "X_train = balanced_df.iloc[:, :-1]\n",
    "y_train = balanced_df.iloc[:, -1]\n",
    "X_test = df3.iloc[:, :-1]\n",
    "y_test = df3.iloc[:, -1]"
   ]
  },
  {
   "cell_type": "code",
   "execution_count": 63,
   "metadata": {
    "collapsed": false
   },
   "outputs": [
    {
     "name": "stdout",
     "output_type": "stream",
     "text": [
      "             precision    recall  f1-score   support\n",
      "\n",
      "          0       0.94      0.54      0.69    122416\n",
      "          1       0.14      0.69      0.23     12752\n",
      "\n",
      "avg / total       0.87      0.55      0.64    135168\n",
      "\n",
      "Model: Random Forest Classifier\n",
      "AUC: 0.676731951842\n",
      "\n"
     ]
    },
    {
     "data": {
      "image/png": "[encoded data removed]",
      "text/plain": [
       "<matplotlib.figure.Figure at 0x7f4a4e8629b0>"
      ]
     },
     "metadata": {},
     "output_type": "display_data"
    }
   ],
   "source": [
    "rf = RandomForestClassifier()\n",
    "rf.fit(X_train, y_train)\n",
    "rf.score(X_test, y_test)\n",
    "\n",
    "y_pred = rf.predict(X_test)\n",
    "y_proba = rf.predict_proba(X_test)[:,1]\n",
    "print(classification_report(y_test, y_pred))\n",
    "\n",
    "fpr, tpr, thresholds = roc_curve(y_test, y_proba)\n",
    "roc_auc = auc(fpr, tpr)\n",
    "\n",
    "print('Model: Random Forest Classifier')\n",
    "print('AUC: ' + str(roc_auc))\n",
    "print(\"\")\n",
    "\n",
    "plt.plot(fpr, tpr, color = 'navy')\n",
    "plt.plot([0,1],[0,1], '--', color = 'grey')\n",
    "plt.xlabel('FPR')\n",
    "plt.ylabel('TPR')\n",
    "#plt.title('Random Forest ROC');\n",
    "sns.despine()"
   ]
  },
  {
   "cell_type": "code",
   "execution_count": 197,
   "metadata": {
    "collapsed": false
   },
   "outputs": [
    {
     "name": "stdout",
     "output_type": "stream",
     "text": [
      "             precision    recall  f1-score   support\n",
      "\n",
      "          0       0.98      0.16      0.27    122416\n",
      "          1       0.11      0.96      0.19     12752\n",
      "\n",
      "avg / total       0.89      0.23      0.26    135168\n",
      "\n",
      "0.015780487503\n"
     ]
    }
   ],
   "source": [
    "y_pred = threshold_wrapper(y_proba, .2)\n",
    "print(classification_report(y_test, y_pred))\n",
    "print(adjusted_mutual_info_score(y_test, y_pred))"
   ]
  },
  {
   "cell_type": "code",
   "execution_count": 198,
   "metadata": {
    "collapsed": false
   },
   "outputs": [
    {
     "name": "stdout",
     "output_type": "stream",
     "text": [
      "             precision    recall  f1-score   support\n",
      "\n",
      "          0       0.94      0.36      0.52    122416\n",
      "          1       0.11      0.78      0.20     12752\n",
      "\n",
      "avg / total       0.86      0.40      0.49    135168\n",
      "\n",
      "0.00609450181109\n"
     ]
    }
   ],
   "source": [
    "y_pred = threshold_wrapper(y_proba, .4)\n",
    "print(classification_report(y_test, y_pred))\n",
    "print(adjusted_mutual_info_score(y_test, y_pred))"
   ]
  },
  {
   "cell_type": "code",
   "execution_count": 199,
   "metadata": {
    "collapsed": false
   },
   "outputs": [
    {
     "name": "stdout",
     "output_type": "stream",
     "text": [
      "             precision    recall  f1-score   support\n",
      "\n",
      "          0       0.93      0.71      0.81    122416\n",
      "          1       0.15      0.50      0.24     12752\n",
      "\n",
      "avg / total       0.86      0.69      0.75    135168\n",
      "\n",
      "0.0137401494419\n"
     ]
    }
   ],
   "source": [
    "y_pred = threshold_wrapper(y_proba, .6)\n",
    "print(classification_report(y_test, y_pred))\n",
    "print(adjusted_mutual_info_score(y_test, y_pred))"
   ]
  },
  {
   "cell_type": "markdown",
   "metadata": {},
   "source": [
    "Here is the similar code for Fully Connected Neural Network (FCNN) "
   ]
  },
  {
   "cell_type": "code",
   "execution_count": null,
   "metadata": {},
   "outputs": [],
   "source": [
    "from keras.models import Sequential\n",
    "from keras.layers import Dense\n",
    "from keras.metrics import AUC\n",
    "from sklearn.metrics import classification_report\n",
    "from sklearn.preprocessing import LabelBinarizer\n",
    "\n",
    "# Define the model\n",
    "model = Sequential()\n",
    "model.add(Dense(32, input_dim=X_train.shape[1], activation='relu'))  # Input layer\n",
    "model.add(Dense(16, activation='relu'))  # Hidden layer\n",
    "model.add(Dense(1, activation='sigmoid'))  # Output layer\n",
    "\n",
    "# Compile the model\n",
    "model.compile(loss='binary_crossentropy', optimizer='adam', metrics=[AUC(name='auc')])\n",
    "\n",
    "# Fit the model\n",
    "model.fit(X_train, y_train, epochs=50, batch_size=32, verbose=0)\n",
    "\n",
    "# Evaluate the model\n",
    "scores = model.evaluate(X_test, y_test, verbose=0)\n",
    "print(f'Model: Fully Connected Neural Network\\nAUC: {scores[1]}\\n')\n",
    "\n",
    "# Predict classes\n",
    "y_pred = model.predict_classes(X_test)\n",
    "print(classification_report(y_test, y_pred))\n",
    "\n",
    "# Predict probabilities\n",
    "y_proba = model.predict(X_test)\n",
    "\n",
    "# Compute ROC curve\n",
    "fpr, tpr, thresholds = roc_curve(y_test, y_proba)\n",
    "roc_auc = auc(fpr, tpr)\n",
    "\n",
    "# Plot ROC curve\n",
    "plt.plot(fpr, tpr, color = 'navy')\n",
    "plt.plot([0,1],[0,1], '--', color = 'grey')\n",
    "plt.xlabel('FPR')\n",
    "plt.ylabel('TPR')\n",
    "sns.despine()\n"
   ]
  },
  {
   "cell_type": "markdown",
   "metadata": {},
   "source": []
  },
  {
   "cell_type": "markdown",
   "metadata": {},
   "source": [
    "## density map"
   ]
  },
  {
   "cell_type": "code",
   "execution_count": 200,
   "metadata": {
    "collapsed": false
   },
   "outputs": [
    {
     "data": {
      "text/plain": [
       "(352, 384, 42)"
      ]
     },
     "execution_count": 200,
     "metadata": {},
     "output_type": "execute_result"
    }
   ],
   "source": [
    "stacked_image3.shape"
   ]
  },
  {
   "cell_type": "code",
   "execution_count": 201,
   "metadata": {
    "collapsed": false
   },
   "outputs": [
    {
     "data": {
      "text/plain": [
       "(41545, 2)"
      ]
     },
     "execution_count": 201,
     "metadata": {},
     "output_type": "execute_result"
    }
   ],
   "source": [
    "pixel_matrix = np.reshape(y_pred, (352, 384))\n",
    "# isolating non zero pixel coordinates for plotting\n",
    "x = np.nonzero(pixel_matrix)[1]\n",
    "y = np.nonzero(pixel_matrix)[0]\n",
    "pix_coords = np.vstack((x, y)).T\n",
    "pix_coords.shape"
   ]
  },
  {
   "cell_type": "code",
   "execution_count": 202,
   "metadata": {
    "collapsed": false
   },
   "outputs": [
    {
     "data": {
      "text/plain": [
       "array([[  1,   0],\n",
       "       [  2,   0],\n",
       "       [  3,   0],\n",
       "       ..., \n",
       "       [365, 351],\n",
       "       [376, 351],\n",
       "       [377, 351]])"
      ]
     },
     "execution_count": 202,
     "metadata": {},
     "output_type": "execute_result"
    }
   ],
   "source": [
    "pix_coords"
   ]
  },
  {
   "cell_type": "code",
   "execution_count": 203,
   "metadata": {
    "collapsed": false
   },
   "outputs": [
    {
     "data": {
      "image/png": "[encoded data removed]",
      "text/plain": [
       "<matplotlib.figure.Figure at 0x7fbd7e3acb70>"
      ]
     },
     "metadata": {},
     "output_type": "display_data"
    }
   ],
   "source": [
    "fig, ax = plt.subplots(figsize=(6,6))\n",
    "ax = sns.kdeplot(pix_coords, shade = True, cmap = \"PuBu\")\n",
    "ax.invert_yaxis()\n",
    "ax.patch.set_facecolor('white')\n",
    "ax.collections[0].set_alpha(0)\n",
    "plt.show()"
   ]
  },
  {
   "cell_type": "code",
   "execution_count": 204,
   "metadata": {
    "collapsed": false
   },
   "outputs": [
    {
     "data": {
      "text/plain": [
       "<matplotlib.image.AxesImage at 0x7fbd7fd645c0>"
      ]
     },
     "execution_count": 204,
     "metadata": {},
     "output_type": "execute_result"
    },
    {
     "data": {
      "image/png": "[encoded data removed]",
      "text/plain": [
       "<matplotlib.figure.Figure at 0x7fbd7fd4ae80>"
      ]
     },
     "metadata": {},
     "output_type": "display_data"
    }
   ],
   "source": [
    "plt.imshow(pixel_matrix)"
   ]
  },
  {
   "cell_type": "markdown",
   "metadata": {},
   "source": []
  },
  {
   "cell_type": "markdown",
   "metadata": {},
   "source": [
    "This code defines a Pix2Pix GAN model that uses a U-Net-like architecture for the generator and a PatchGAN-like architecture for the discriminator. The generator takes an image and generates a new image, and the discriminator takes a pair of images (the original image and the generated image) and determines whether the generated image is real or fake."
   ]
  },
  {
   "cell_type": "code",
   "execution_count": null,
   "metadata": {
    "collapsed": true
   },
   "outputs": [],
   "source": [
    "from keras.layers import Input, Conv2D, BatchNormalization, Activation, Concatenate\n",
    "from keras.layers.advanced_activations import LeakyReLU\n",
    "from keras.layers.convolutional import Conv2DTranspose\n",
    "from keras.models import Model\n",
    "from keras.optimizers import Adam\n",
    "\n",
    "def build_generator():\n",
    "    def conv2d(layer_input, filters, f_size=4):\n",
    "        d = Conv2D(filters, kernel_size=f_size, strides=2, padding='same')(layer_input)\n",
    "        d = LeakyReLU(alpha=0.2)(d)\n",
    "        d = BatchNormalization(momentum=0.8)(d)\n",
    "        return d\n",
    "\n",
    "    def deconv2d(layer_input, skip_input, filters, f_size=4, dropout_rate=0):\n",
    "        u = Conv2DTranspose(filters, kernel_size=f_size, strides=2, padding='same')(layer_input)\n",
    "        u = Activation('relu')(u)\n",
    "        if dropout_rate:\n",
    "            u = Dropout(dropout_rate)(u)\n",
    "        u = BatchNormalization(momentum=0.8)(u)\n",
    "        u = Concatenate()([u, skip_input])\n",
    "        return u\n",
    "\n",
    "    # Image input\n",
    "    d0 = Input(shape=img_shape)\n",
    "\n",
    "    # Downsampling\n",
    "    d1 = conv2d(d0, gf)\n",
    "    d2 = conv2d(d1, gf*2)\n",
    "    d3 = conv2d(d2, gf*4)\n",
    "    d4 = conv2d(d3, gf*8)\n",
    "\n",
    "    # Upsampling\n",
    "    u1 = deconv2d(d4, d3, gf*4)\n",
    "    u2 = deconv2d(u1, d2, gf*2)\n",
    "    u3 = deconv2d(u2, d1, gf)\n",
    "\n",
    "    u4 = Conv2DTranspose(gf, kernel_size=4, strides=2, padding='same')(u3)\n",
    "    output_img = Conv2D(channels, kernel_size=4, strides=1, padding='same', activation='tanh')(u4)\n",
    "\n",
    "    return Model(d0, output_img)\n",
    "\n",
    "def build_discriminator():\n",
    "    def d_layer(layer_input, filters, f_size=4, normalization=True):\n",
    "        d = Conv2D(filters, kernel_size=f_size, strides=2, padding='same')(layer_input)\n",
    "        d = LeakyReLU(alpha=0.2)(d)\n",
    "        if normalization:\n",
    "            d = BatchNormalization(momentum=0.8)(d)\n",
    "        return d\n",
    "\n",
    "    img_A = Input(shape=img_shape)\n",
    "    img_B = Input(shape=img_shape)\n",
    "\n",
    "    combined_imgs = Concatenate(axis=-1)([img_A, img_B])\n",
    "\n",
    "    d1 = d_layer(combined_imgs, df, normalization=False)\n",
    "    d2 = d_layer(d1, df*2)\n",
    "    d3 = d_layer(d2, df*4)\n",
    "    d4 = d_layer(d3, df*8)\n",
    "\n",
    "    validity = Conv2D(1, kernel_size=4, strides=1, padding='same')(d4)\n",
    "\n",
    "    return Model([img_A, img_B], validity)\n",
    "\n",
    "# Build and compile the discriminator\n",
    "discriminator = build_discriminator()\n",
    "discriminator.compile(loss='mse', optimizer=Adam(0.0002, 0.5), metrics=['accuracy'])\n",
    "\n",
    "# Build the generator\n",
    "generator = build_generator()\n",
    "\n",
    "# Input images and their conditioning images\n",
    "img_A = Input(shape=img_shape)\n",
    "img_B = Input(shape=img_shape)\n",
    "\n",
    "# By conditioning on B generate a fake version of A\n",
    "fake_A = generator(img_B)\n",
    "\n",
    "# For the combined model we will only train the generator\n",
    "discriminator.trainable = False\n",
    "\n",
    "# Discriminators determines validity of translated images / condition pairs\n",
    "valid = discriminator([fake_A, img_B])\n",
    "\n",
    "combined = Model(inputs=[img_A, img_B], outputs=[valid, fake_A])\n",
    "combined.compile(loss=['mse', 'mae'], loss_weights=[1, 100], optimizer=Adam(0.0002, 0.5))\n"
   ]
  }
 ],
 "metadata": {
  "anaconda-cloud": {},
  "kernelspec": {
   "display_name": "Python 3",
   "language": "python",
   "name": "python3"
  },
  "language_info": {
   "codemirror_mode": {
    "name": "ipython",
    "version": 3
   },
   "file_extension": ".py",
   "mimetype": "text/x-python",
   "name": "python",
   "nbconvert_exporter": "python",
   "pygments_lexer": "ipython3",
   "version": "3.8.10"
  }
 },
 "nbformat": 4,
 "nbformat_minor": 1
}
